{
 "cells": [
  {
   "cell_type": "markdown",
   "id": "186039a5",
   "metadata": {},
   "source": [
    "# Michelangelo's\n",
    "\n",
    "Su amigo Chocolove McDonell le comenta que inauguró un nuevo restaurante llamado _Michelangelo's_, el cual se especializa en comida italiana. Como dueño del negocio, Chocolove quiere evaluar la rentabilidad de su negocio, pero no es muy bueno sacando cuentas, razón por la que acude a usted por ayuda. \n",
    "\n",
    "El menú del restaurante es el siguiente:\n",
    "> - Carpaccio... `$ 31.500`\n",
    "> - Polenta... `$ 31.500`\n",
    "> - Panna Cotta... `$ 32.000` \n",
    "> - Macchiato... `$ 12.500` \n",
    "> - Latte... `$ 18.000`\n",
    "> - Cappuccino... `$ 19.500` \n",
    "> - Espresso... `$ 21.500` \n",
    "> - Lasagna... `$ 29.000` \n",
    "> - Risotto... `$ 35.500` \n",
    "> - Gnocchi... `$ 56.500` \n",
    "> - Ravioli... `$ 63.500` \n",
    "\n",
    "Chocolove lleva anotaciones de las ventas realizadas durante la primera semana en un pequeño cuaderno, indicando la fecha y los platos servidos. Le ha compartido la siguientes imágenes:\n",
    "\n",
    "<img src=\"ventas_p1.jpg\" style=\"max-height:400px\">\n",
    "<img src=\"ventas_p2.jpg\" style=\"max-height:400px\">\n",
    "\n",
    "**Tip**: Descarga las imágenes de la carpeta del repositorio para observar el texto con mayor facilidad."
   ]
  },
  {
   "cell_type": "markdown",
   "id": "29ad8ea4",
   "metadata": {},
   "source": [
    "# Menú"
   ]
  },
  {
   "cell_type": "markdown",
   "id": "2797b589",
   "metadata": {},
   "source": [
    "Crea una lista llamada `menu` que contenga los elementos del menú de Michelangelo's."
   ]
  },
  {
   "cell_type": "code",
   "execution_count": 32,
   "id": "3cb128e4",
   "metadata": {},
   "outputs": [],
   "source": [
    "menu = [\"Lasagna\", \"Polenta\", \"Gnochi\", \"Ravioli\", \"Cappuccino\", \"Risotto\", \"Carpaccio\", \"Espresso\", \"Panna Cotta\", \"Latte\", \"Machiato\"]"
   ]
  },
  {
   "cell_type": "markdown",
   "id": "9c242dcf",
   "metadata": {},
   "source": [
    "Crea una lista llamada `prices` que contenga los precios de los elementos del menú de Michelangelo's. El orden de los precios debe corresponder con el orden de los platos en la lista `menu`."
   ]
  },
  {
   "cell_type": "code",
   "execution_count": 38,
   "id": "38299339",
   "metadata": {},
   "outputs": [],
   "source": [
    "prices = [29000, 31500, 56500, 63500, 19500, 35500, 31500, 21500, 32000, 18000, 12500]"
   ]
  },
  {
   "cell_type": "markdown",
   "id": "db730bc8",
   "metadata": {},
   "source": [
    "Crea una variable llamada `avg_prc` que almacene el valor del precio promedio de los productos vendidos en Michelangelo's.\n",
    "\n",
    "**Tip**: utiliza la lista `prices` y ciclos para calcular este valor. "
   ]
  },
  {
   "cell_type": "code",
   "execution_count": 49,
   "id": "8d1e899a",
   "metadata": {},
   "outputs": [
    {
     "ename": "TypeError",
     "evalue": "'int' object is not iterable",
     "output_type": "error",
     "traceback": [
      "\u001b[1;31m---------------------------------------------------------------------------\u001b[0m",
      "\u001b[1;31mTypeError\u001b[0m                                 Traceback (most recent call last)",
      "\u001b[1;32m~\\AppData\\Local\\Temp/ipykernel_14384/3400889330.py\u001b[0m in \u001b[0;36m<module>\u001b[1;34m\u001b[0m\n\u001b[0;32m      1\u001b[0m \u001b[0mavg_prc\u001b[0m \u001b[1;33m=\u001b[0m \u001b[1;36m0\u001b[0m\u001b[1;33m\u001b[0m\u001b[1;33m\u001b[0m\u001b[0m\n\u001b[1;32m----> 2\u001b[1;33m \u001b[1;32mfor\u001b[0m \u001b[0mprices\u001b[0m \u001b[1;32min\u001b[0m \u001b[0mprices\u001b[0m\u001b[1;33m:\u001b[0m\u001b[1;33m\u001b[0m\u001b[1;33m\u001b[0m\u001b[0m\n\u001b[0m\u001b[0;32m      3\u001b[0m     \u001b[1;31m#avg_prc += prices:\u001b[0m\u001b[1;33m\u001b[0m\u001b[1;33m\u001b[0m\u001b[0m\n\u001b[0;32m      4\u001b[0m         \u001b[0mavg_prc\u001b[0m \u001b[1;33m/=\u001b[0m \u001b[1;33m(\u001b[0m\u001b[0mprices\u001b[0m\u001b[1;33m)\u001b[0m\u001b[1;33m\u001b[0m\u001b[1;33m\u001b[0m\u001b[0m\n\u001b[0;32m      5\u001b[0m         \u001b[0mprint\u001b[0m\u001b[1;33m(\u001b[0m\u001b[1;34m\"El precio promedio es $\"\u001b[0m \u001b[1;33m+\u001b[0m \u001b[0mstr\u001b[0m\u001b[1;33m(\u001b[0m\u001b[0mavg_prc\u001b[0m\u001b[1;33m)\u001b[0m\u001b[1;33m)\u001b[0m\u001b[1;33m\u001b[0m\u001b[1;33m\u001b[0m\u001b[0m\n",
      "\u001b[1;31mTypeError\u001b[0m: 'int' object is not iterable"
     ]
    }
   ],
   "source": [
    "avg_prc = 0\n",
    "for prices in prices:\n",
    "    #avg_prc += prices:\n",
    "        avg_prc /= len(prices)\n",
    "        print(\"El precio promedio es $\" + str(avg_prc))\n"
   ]
  },
  {
   "cell_type": "markdown",
   "id": "08393c0c",
   "metadata": {},
   "source": [
    "## Ventas"
   ]
  },
  {
   "cell_type": "markdown",
   "id": "97c049c0",
   "metadata": {},
   "source": [
    "Crea una lista para cada día de la semana que contenga los productos vendidos por Michelangelo's. Nombra las variables de la siguiente forma:\n",
    "- `monday`: lista con las ventas del lunes, 16 de enero de 2023\n",
    "- `tuesday`: lista con las ventas del martes, 17 de enero de 2023\n",
    "- `wednesday`: lista con las ventas del miércoles, 18 de enero de 2023\n",
    "- `thursday`: lista con las ventas del jueves, 19 de enero de 2023\n",
    "- `friday`: lista con las ventas del viernes, 20 de enero de 2023\n",
    "- `saturday`: lista con las ventas del sábado, 21 de enero de 2023\n",
    "- `sunday`: lista con las ventas del domingo, 22 de enero de 2023"
   ]
  },
  {
   "cell_type": "code",
   "execution_count": 23,
   "id": "f2b38aa6",
   "metadata": {},
   "outputs": [],
   "source": [
    "monday = [\"Lasagna\", \"Pdenta\", \"Gnocchi\", \"Pdenta\", \"Ravioli\", \"Gnochi\", \"Cappucchino\", \"Risoto\"]\n",
    "tuesday = [\"Risotto\", \"Ravioli\", \"Risotto\", \"Lasagna\", \"Carpaccio\", \"Espresso\", \"Panna Cotta\", \"Gnocchi\", \"Gnocchi\"]\n",
    "wednesday = [\"Capucchino\", \"Lasagna\", \"Cappucchino\", \"Carpaccio\", \"Ravioli\", \"Pdenta\", \"Pdenta\", \"Carpaccio\", \"Espresso\", \"Lasagna\",\"Risotto\", \"Carpaccio\"]\n",
    "thursday = [\"Latte\", \"Risotto\", \"Risotto\", \"Carpaccio\", \"Gnocchi\", \"Pdenta\", \"Espresso\", \"Latte\", \"Ravioli\"]\n",
    "friday = [\"Espresso\", \"Gnocchi\", \"Gnocchi\", \"Cappucchino\", \"Gnocchi\", \"Panna Cotta\"]\n",
    "saturday = [\"Risotto\", \"Carpaccio\", \"Macchiato\", \"Cappuccino\", \"Risotto\", \"Pdenta\", \"Panna Cotta\", \"Ravioli\", \"Macchiato\", \"Panna Cotta\", \"Latte\", \"Latte\", \"Gnocchi\"]\n",
    "sunday = [\"Pdenta\", \"Pdenta\", \"Espresso\", \"Ravioli\", \"Risotto\", \"Macchiato\"]"
   ]
  },
  {
   "cell_type": "markdown",
   "id": "0727bc22",
   "metadata": {},
   "source": [
    "Calcula el valor total de las ventas para cada día de la semana. Almacena el valor de las ventas en las siguientes variables:\n",
    "- `total_monday`: variable con el valor total de las ventas del día lunes\n",
    "- `total_tuesday`: variable con el valor total de las ventas del día lunes\n",
    "- `total_wednesday`: variable con el valor total de las ventas del día lunes\n",
    "- `total_thursday`: variable con el valor total de las ventas del día lunes\n",
    "- `total_friday`: variable con el valor total de las ventas del día lunes\n",
    "- `total_saturday`: variable con el valor total de las ventas del día lunes\n",
    "- `total_sunday`: variable con el valor total de las ventas del día lunes\n",
    "\n",
    "**Tip**: utiliza ciclos y las listas de los días de la semana. También puedes usar el método `.index()` para obtener el índice de un elemento en una lista."
   ]
  },
  {
   "cell_type": "code",
   "execution_count": 39,
   "id": "0d6e0781",
   "metadata": {},
   "outputs": [
    {
     "name": "stdout",
     "output_type": "stream",
     "text": [
      "[('Lasagna', 29000), ('Polenta', 31500), ('Gnochi', 56500), ('Ravioli', 63500), ('Cappuccino', 19500), ('Risotto', 35500), ('Carpaccio', 31500), ('Espresso', 21500), ('Panna Cotta', 32000), ('Latte', 18000), ('Machiato', 12500)]\n"
     ]
    }
   ],
   "source": [
    "total_monday = list(zip(menu, prices))\n",
    "print(total_monday)"
   ]
  },
  {
   "cell_type": "code",
   "execution_count": 51,
   "id": "cf8881ee",
   "metadata": {},
   "outputs": [
    {
     "ename": "TypeError",
     "evalue": "'int' object is not callable",
     "output_type": "error",
     "traceback": [
      "\u001b[1;31m---------------------------------------------------------------------------\u001b[0m",
      "\u001b[1;31mTypeError\u001b[0m                                 Traceback (most recent call last)",
      "\u001b[1;32m~\\AppData\\Local\\Temp/ipykernel_14384/414759443.py\u001b[0m in \u001b[0;36m<module>\u001b[1;34m\u001b[0m\n\u001b[0;32m      8\u001b[0m \u001b[1;33m\u001b[0m\u001b[0m\n\u001b[0;32m      9\u001b[0m \u001b[1;32mfor\u001b[0m \u001b[0mi\u001b[0m \u001b[1;32min\u001b[0m \u001b[0mmonday\u001b[0m\u001b[1;33m:\u001b[0m\u001b[1;33m\u001b[0m\u001b[1;33m\u001b[0m\u001b[0m\n\u001b[1;32m---> 10\u001b[1;33m     \u001b[0mtotal_monday\u001b[0m \u001b[1;33m=\u001b[0m \u001b[0mprices\u001b[0m\u001b[1;33m(\u001b[0m\u001b[0mmonday\u001b[0m\u001b[1;33m.\u001b[0m\u001b[0mindex\u001b[0m\u001b[1;33m(\u001b[0m\u001b[0mi\u001b[0m\u001b[1;33m)\u001b[0m\u001b[1;33m)\u001b[0m\u001b[1;33m\u001b[0m\u001b[1;33m\u001b[0m\u001b[0m\n\u001b[0m\u001b[0;32m     11\u001b[0m     \u001b[0mprint\u001b[0m\u001b[1;33m(\u001b[0m\u001b[1;34m'la suma del dia lunes es de: $'\u001b[0m \u001b[1;33m+\u001b[0m \u001b[0mstr\u001b[0m\u001b[1;33m(\u001b[0m\u001b[0mtotal_monday\u001b[0m\u001b[1;33m)\u001b[0m\u001b[1;33m)\u001b[0m\u001b[1;33m\u001b[0m\u001b[1;33m\u001b[0m\u001b[0m\n\u001b[0;32m     12\u001b[0m \u001b[1;33m\u001b[0m\u001b[0m\n",
      "\u001b[1;31mTypeError\u001b[0m: 'int' object is not callable"
     ]
    }
   ],
   "source": [
    "total_monday = 0\n",
    "total_tuesday = 0\n",
    "total_wednesday = 0\n",
    "total_thursday = 0\n",
    "total_friday = 0\n",
    "total_saturday = 0\n",
    "total_sunday = 0\n",
    "\n",
    "for i in monday:\n",
    "    total_monday = prices(monday.index(i))\n",
    "    print('la suma del dia lunes es de: $' + str(total_monday))\n",
    "\n",
    "for i in tuesday:\n",
    "    total_tuesday = prices(tuesday.index(i))\n",
    "    print('la suma del dia martes es de: $' + str(total_tuesday))\n",
    "    \n",
    "for i in wednesday:\n",
    "    total_wednesday = prices(wednesday.index(i))\n",
    "    print('la suma del dia miercoles es de: $' + str(total_wednesday))\n",
    "\n",
    "for i in thursday:\n",
    "    total_thursday = prices(thursday.index(i))\n",
    "    print('la suma del dia jueves es de: $' + str(total_thursday))\n",
    "    \n",
    "for i in friday:\n",
    "    total_friday = prices(friday.index(i))\n",
    "    print('la suma del dia viernes es de: $' + str(total_friday))\n",
    "    \n",
    "for i in saturday:\n",
    "    total_saturday = prices(saturday.index(i))\n",
    "    print('la suma del dia sabado es de: $' + str(total_saturday))\n",
    "\n",
    "for i in sunday:\n",
    "    total_sunday = prices(sunday.index(i))\n",
    "    print('la suma del dia domingo es de: $' + str(total_sunday))\n",
    "    \n",
    "Sum_all_days = int(total_monday+total_tuesday+total_wednesday+total_thursday+total_friday+total_saturday+total_sunday)\n",
    "\n",
    "    "
   ]
  },
  {
   "cell_type": "markdown",
   "id": "3cc13c70",
   "metadata": {},
   "source": [
    "¿Cuál es valor total de las ventas de Michelangelo's durante su primera semana?"
   ]
  },
  {
   "cell_type": "code",
   "execution_count": null,
   "id": "c8d1500f",
   "metadata": {},
   "outputs": [],
   "source": [
    "print(\"Las ventas de mi\")"
   ]
  }
 ],
 "metadata": {
  "kernelspec": {
   "display_name": "Python 3 (ipykernel)",
   "language": "python",
   "name": "python3"
  },
  "language_info": {
   "codemirror_mode": {
    "name": "ipython",
    "version": 3
   },
   "file_extension": ".py",
   "mimetype": "text/x-python",
   "name": "python",
   "nbconvert_exporter": "python",
   "pygments_lexer": "ipython3",
   "version": "3.9.7"
  }
 },
 "nbformat": 4,
 "nbformat_minor": 5
}
