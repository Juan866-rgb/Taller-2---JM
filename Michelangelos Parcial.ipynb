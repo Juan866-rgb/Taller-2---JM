{
 "cells": [
  {
   "cell_type": "markdown",
   "id": "186039a5",
   "metadata": {},
   "source": [
    "# Michelangelo's\n",
    "\n",
    "Su amigo Chocolove McDonell le comenta que inauguró un nuevo restaurante llamado _Michelangelo's_, el cual se especializa en comida italiana. Como dueño del negocio, Chocolove quiere evaluar la rentabilidad de su negocio, pero no es muy bueno sacando cuentas, razón por la que acude a usted por ayuda. \n",
    "\n",
    "El menú del restaurante es el siguiente:\n",
    "> - Carpaccio... `$ 31.500`\n",
    "> - Polenta... `$ 31.500`\n",
    "> - Panna Cotta... `$ 32.000` \n",
    "> - Macchiato... `$ 12.500` \n",
    "> - Latte... `$ 18.000`\n",
    "> - Cappuccino... `$ 19.500` \n",
    "> - Espresso... `$ 21.500` \n",
    "> - Lasagna... `$ 29.000` \n",
    "> - Risotto... `$ 35.500` \n",
    "> - Gnocchi... `$ 56.500` \n",
    "> - Ravioli... `$ 63.500` \n",
    "\n",
    "Chocolove lleva anotaciones de las ventas realizadas durante la primera semana en un pequeño cuaderno, indicando la fecha y los platos servidos. Le ha compartido la siguientes imágenes:\n",
    "\n",
    "<img src=\"ventas_p1.jpg\" style=\"max-height:400px\">\n",
    "<img src=\"ventas_p2.jpg\" style=\"max-height:400px\">\n",
    "\n",
    "**Tip**: Descarga las imágenes de la carpeta del repositorio para observar el texto con mayor facilidad."
   ]
  },
  {
   "cell_type": "markdown",
   "id": "29ad8ea4",
   "metadata": {},
   "source": [
    "# Menú"
   ]
  },
  {
   "cell_type": "markdown",
   "id": "2797b589",
   "metadata": {},
   "source": [
    "Crea una lista llamada `menu` que contenga los elementos del menú de Michelangelo's."
   ]
  },
  {
   "cell_type": "code",
   "execution_count": 9,
   "id": "3cb128e4",
   "metadata": {},
   "outputs": [],
   "source": [
    "menu = ['Carpaccio', 'Polenta', 'Panna Cotta', 'Macchiato', 'Latte', 'Cappuccino', 'Espresso', 'Lasagna', 'Risotto', 'Gnocchi', 'Ravioli']\n"
   ]
  },
  {
   "cell_type": "code",
   "execution_count": null,
   "id": "536b75e7",
   "metadata": {},
   "outputs": [],
   "source": []
  },
  {
   "cell_type": "markdown",
   "id": "9c242dcf",
   "metadata": {},
   "source": [
    "Crea una lista llamada `prices` que contenga los precios de los elementos del menú de Michelangelo's. El orden de los precios debe corresponder con el orden de los platos en la lista `menu`."
   ]
  },
  {
   "cell_type": "code",
   "execution_count": 10,
   "id": "38299339",
   "metadata": {},
   "outputs": [],
   "source": [
    "\n",
    "prices = [31500, 31500, 32000, 12500,  18000, 19500, 21500, 29000, 35500, 56500, 63500]"
   ]
  },
  {
   "cell_type": "code",
   "execution_count": null,
   "id": "e7470598",
   "metadata": {},
   "outputs": [],
   "source": []
  },
  {
   "cell_type": "markdown",
   "id": "db730bc8",
   "metadata": {},
   "source": [
    "Crea una variable llamada `avg_prc` que almacene el valor del precio promedio de los productos vendidos en Michelangelo's.\n",
    "\n",
    "**Tip**: utiliza la lista `prices` y ciclos para calcular este valor. "
   ]
  },
  {
   "cell_type": "code",
   "execution_count": 11,
   "id": "8d1e899a",
   "metadata": {},
   "outputs": [
    {
     "name": "stdout",
     "output_type": "stream",
     "text": [
      "31909.09\n"
     ]
    }
   ],
   "source": [
    "#avg_prc = 0\n",
    "#for prices in prices:\n",
    "    #avg_prc += prices:\n",
    " #       avg_prc /= len(prices)\n",
    "  #      print(\"El precio promedio es $\" + str(avg_prc))\n",
    "    \n",
    "prices = [31500, 31500, 32000, 12500,  18000, 19500, 21500, 29000, 35500, 56500, 63500]\n",
    "\n",
    "avg_prc = 0\n",
    "\n",
    "for i in prices:\n",
    "  avg_prc = avg_prc + i\n",
    "\n",
    "avg_prc = round((avg_prc / len(prices)), 2)\n",
    "print(avg_prc)\n"
   ]
  },
  {
   "cell_type": "markdown",
   "id": "08393c0c",
   "metadata": {},
   "source": [
    "## Ventas"
   ]
  },
  {
   "cell_type": "markdown",
   "id": "97c049c0",
   "metadata": {},
   "source": [
    "Crea una lista para cada día de la semana que contenga los productos vendidos por Michelangelo's. Nombra las variables de la siguiente forma:\n",
    "- `monday`: lista con las ventas del lunes, 16 de enero de 2023\n",
    "- `tuesday`: lista con las ventas del martes, 17 de enero de 2023\n",
    "- `wednesday`: lista con las ventas del miércoles, 18 de enero de 2023\n",
    "- `thursday`: lista con las ventas del jueves, 19 de enero de 2023\n",
    "- `friday`: lista con las ventas del viernes, 20 de enero de 2023\n",
    "- `saturday`: lista con las ventas del sábado, 21 de enero de 2023\n",
    "- `sunday`: lista con las ventas del domingo, 22 de enero de 2023"
   ]
  },
  {
   "cell_type": "code",
   "execution_count": 12,
   "id": "f2b38aa6",
   "metadata": {},
   "outputs": [],
   "source": [
    "monday = ['Lasagna', 'Polenta', 'Gnocchi', 'Polenta', 'Ravioli', 'Gnocchi', 'Cappuccino', 'Risotto']\n",
    "tuesday = ['Risotto', 'Ravioli', 'Risotto', 'Lasagna', 'Carpaccio', 'Espresso', 'Panna Cotta', 'Gnocchi', 'Gnocchi']\n",
    "wednesday = ['Cappuccino', 'Lasagna', 'Cappuccino', 'Carpaccio', 'Ravioli', 'Polenta', 'Polenta', 'Carpaccio', 'Espresso', 'Lasagna', 'Risotto', 'Carpaccio']\n",
    "thursday = ['Latte', 'Risotto', 'Risotto', 'Carpaccio', 'Gnocchi', 'Polenta', 'Espresso', 'Latte', 'Ravioli']\n",
    "friday = ['Espresso', 'Gnocchi', 'Gnocchi', 'Cappuccino', 'Gnocchi', 'Panna Cotta']\n",
    "saturday = ['Risotto', 'Carpaccio', 'Macchiato', 'Cappuccino', 'Risotto', 'Polenta', 'Panna Cotta', 'Ravioli', 'Macchiato', 'Panna Cotta', 'Latte', 'Latte', 'Gnocchi']\n",
    "sunday = ['Polenta', 'Polenta', 'Espresso', 'Ravioli', 'Risotto', 'Macchiato']"
   ]
  },
  {
   "cell_type": "code",
   "execution_count": null,
   "id": "9a50b158",
   "metadata": {},
   "outputs": [],
   "source": []
  },
  {
   "cell_type": "code",
   "execution_count": null,
   "id": "997f5c0b",
   "metadata": {},
   "outputs": [],
   "source": []
  },
  {
   "cell_type": "markdown",
   "id": "0727bc22",
   "metadata": {},
   "source": [
    "Calcula el valor total de las ventas para cada día de la semana. Almacena el valor de las ventas en las siguientes variables:\n",
    "- `total_monday`: variable con el valor total de las ventas del día lunes\n",
    "- `total_tuesday`: variable con el valor total de las ventas del día lunes\n",
    "- `total_wednesday`: variable con el valor total de las ventas del día lunes\n",
    "- `total_thursday`: variable con el valor total de las ventas del día lunes\n",
    "- `total_friday`: variable con el valor total de las ventas del día lunes\n",
    "- `total_saturday`: variable con el valor total de las ventas del día lunes\n",
    "- `total_sunday`: variable con el valor total de las ventas del día lunes\n",
    "\n",
    "**Tip**: utiliza ciclos y las listas de los días de la semana. También puedes usar el método `.index()` para obtener el índice de un elemento en una lista."
   ]
  },
  {
   "cell_type": "code",
   "execution_count": 13,
   "id": "cf8881ee",
   "metadata": {},
   "outputs": [
    {
     "name": "stdout",
     "output_type": "stream",
     "text": [
      "323500\n",
      "361500\n",
      "375000\n",
      "311500\n",
      "242500\n",
      "398500\n",
      "196000\n"
     ]
    }
   ],
   "source": [
    "total_monday = 0\n",
    "for i in monday:\n",
    "  total_monday += prices[menu.index(i)]\n",
    "print(total_monday)\n",
    "\n",
    "total_tuesday = 0\n",
    "for j in tuesday:\n",
    "  total_tuesday += prices[menu.index(j)]\n",
    "print(total_tuesday)\n",
    "\n",
    "total_wednesday = 0\n",
    "for i in wednesday:\n",
    "  total_wednesday += prices[menu.index(i)]\n",
    "print(total_wednesday)\n",
    "\n",
    "total_thursday = 0\n",
    "for i in thursday:\n",
    "  total_thursday += prices[menu.index(i)]\n",
    "print(total_thursday)\n",
    "\n",
    "total_friday = 0\n",
    "for i in friday:\n",
    "  total_friday += prices[menu.index(i)]\n",
    "print(total_friday)\n",
    "\n",
    "total_saturday = 0\n",
    "for i in saturday:\n",
    "  total_saturday += prices[menu.index(i)]\n",
    "print(total_saturday)\n",
    "\n",
    "total_sunday = 0\n",
    "for i in sunday:\n",
    "  total_sunday += prices[menu.index(i)]\n",
    "print(total_sunday)\n",
    "\n",
    "    "
   ]
  },
  {
   "cell_type": "markdown",
   "id": "3cc13c70",
   "metadata": {},
   "source": [
    "¿Cuál es valor total de las ventas de Michelangelo's durante su primera semana?"
   ]
  },
  {
   "cell_type": "code",
   "execution_count": 14,
   "id": "c8d1500f",
   "metadata": {},
   "outputs": [
    {
     "name": "stdout",
     "output_type": "stream",
     "text": [
      "El valor total de ventas de Michelangelos durante su primera semana es: 2208500\n"
     ]
    }
   ],
   "source": [
    "total_ventas = total_monday + total_tuesday + total_wednesday + total_thursday + total_friday + total_saturday + total_sunday\n",
    "print('El valor total de ventas de Michelangelos durante su primera semana es: ' + str(total_ventas))"
   ]
  },
  {
   "cell_type": "markdown",
   "id": "62a65de2",
   "metadata": {},
   "source": [
    "# Analisis de problema"
   ]
  },
  {
   "cell_type": "code",
   "execution_count": 9,
   "id": "156af6b6",
   "metadata": {},
   "outputs": [
    {
     "ename": "SyntaxError",
     "evalue": "invalid syntax (Temp/ipykernel_17304/2350329039.py, line 11)",
     "output_type": "error",
     "traceback": [
      "\u001b[1;36m  File \u001b[1;32m\"C:\\Users\\Bette\\AppData\\Local\\Temp/ipykernel_17304/2350329039.py\"\u001b[1;36m, line \u001b[1;32m11\u001b[0m\n\u001b[1;33m    while i < cont\u001b[0m\n\u001b[1;37m                     ^\u001b[0m\n\u001b[1;31mSyntaxError\u001b[0m\u001b[1;31m:\u001b[0m invalid syntax\n"
     ]
    }
   ],
   "source": [
    "\n",
    "#dishes = menu.copy()\n",
    "\n",
    "#sales_dict = {}\n",
    "\n",
    "#fechas_dict = {}\n",
    "\n",
    "    \n",
    "#def save_fecha():\n",
    " #   dia = input(\"Ingrese el día: \")\n",
    "  #  fecha = input(\"Ingrese la fecha en formato DD/MM/AA: \")\n",
    "   # fechas_dict[dia] = fecha\n",
    "    #produc_sale = input(\"Ingrese el nombre de los productos vendidos, press enter y luego la cantidad de estos: \")\n",
    "    #num_products = input(\"Ingrese la cantidad de productos vendidos en el mismo orden\")\n",
    "    #print(\"Ventas agregadas\")    \n",
    "  "
   ]
  },
  {
   "cell_type": "code",
   "execution_count": 14,
   "id": "78e47435",
   "metadata": {},
   "outputs": [
    {
     "ename": "IndentationError",
     "evalue": "expected an indented block (Temp/ipykernel_17304/3050226949.py, line 8)",
     "output_type": "error",
     "traceback": [
      "\u001b[1;36m  File \u001b[1;32m\"C:\\Users\\Bette\\AppData\\Local\\Temp/ipykernel_17304/3050226949.py\"\u001b[1;36m, line \u001b[1;32m8\u001b[0m\n\u001b[1;33m    if sale in menu:\u001b[0m\n\u001b[1;37m    ^\u001b[0m\n\u001b[1;31mIndentationError\u001b[0m\u001b[1;31m:\u001b[0m expected an indented block\n"
     ]
    }
   ],
   "source": [
    "menu_dict = {'Carpaccio': 31.500, 'Polenta': 31.500, 'Panna Cotta': 32.000, 'Macchiato': 12.500, 'Latte': 18.000, 'Cappuccino': 19.500, 'Espresso': 21.500, 'Lasagna': 29.000, 'Risotto': 35.500, 'Gnocchi': 56.500, 'Ravioli': 63.500}\n",
    "fechas_dict = {'Lunes': '16/01/23', 'Martes': '17/01/23', 'Miercoles': '18/01/23', 'Jueves': '19/01/23', 'Viernes':'20/01/23', 'Sabado': '21/01/23', 'Domingo': '22/01/23'}\n",
    "def add_sale():\n",
    "    cont = input(\"¿Cuantos productos quiere agregar?: \")\n",
    "    while (i < cont):   \n",
    "    sale = input(\"Ingrese el plato vendido: \")\n",
    "    fecha = input(\"Ingrese la fecha de la venta: \")\n",
    "    if sale in menu:\n",
    "        menu_dict[fecha] = sale:\n",
    "            print(\"Plato agregado.\")\n",
    "    else:\n",
    "        print(\"Plato no encontrado\")\n",
    "    \n",
    "def calculate_total_date():\n",
    "    ventas_fecha = input(\"¿De qué fecha quiere conocer el valor total de las ventas?: \")\n",
    "     if  ventas_fecha in fechas_dict:\n",
    "            \n",
    "\n",
    "while True:\n",
    "    accion = input(\"¿Qué acción desea realizar? (Agregar ventas / Ver ventas segun fechas / Salir): \")\n",
    "    if accion.lower() == \"agregar ventas\":\n",
    "        add_sale()\n",
    "    elif accion.lower() == \"ventas segun fechas\":\n",
    "        calculate_total_date()\n",
    "    elif accion.lower() == \"salir\":\n",
    "        break\n",
    "    else:\n",
    "        print(\"Acción no reconocida.\")\n"
   ]
  },
  {
   "cell_type": "code",
   "execution_count": null,
   "id": "d3acb686",
   "metadata": {},
   "outputs": [],
   "source": []
  },
  {
   "cell_type": "code",
   "execution_count": null,
   "id": "be91ac27",
   "metadata": {},
   "outputs": [],
   "source": []
  }
 ],
 "metadata": {
  "kernelspec": {
   "display_name": "Python 3 (ipykernel)",
   "language": "python",
   "name": "python3"
  },
  "language_info": {
   "codemirror_mode": {
    "name": "ipython",
    "version": 3
   },
   "file_extension": ".py",
   "mimetype": "text/x-python",
   "name": "python",
   "nbconvert_exporter": "python",
   "pygments_lexer": "ipython3",
   "version": "3.9.7"
  }
 },
 "nbformat": 4,
 "nbformat_minor": 5
}
